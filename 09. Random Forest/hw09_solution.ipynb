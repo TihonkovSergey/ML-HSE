{
  "cells": [
    {
      "cell_type": "markdown",
      "metadata": {
        "id": "kxs2-KrwXHIJ"
      },
      "source": [
        "# Случайные леса\n",
        "__Суммарное количество баллов: 10__\n",
        "\n",
        "__Решение отправлять на `ml.course.practice@gmail.com`__\n",
        "\n",
        "__Тема письма: `[HSE][ML][MS][HW09] <ФИ>`, где вместо `<ФИ>` указаны фамилия и имя__\n",
        "\n",
        "В этом задании вам предстоит реализовать ансамбль деревьев решений, известный как случайный лес, применить его к публичным данным пользователей социальной сети Вконтакте, и сравнить его эффективность с ансамблем, предоставляемым библиотекой CatBoost.\n",
        "\n",
        "В результате мы сможем определить, какие подписки пользователей больше всего влияют на определение возраста и пола человека. "
      ]
    },
    {
      "cell_type": "code",
      "source": [
        "! pip install catboost"
      ],
      "metadata": {
        "colab": {
          "base_uri": "https://localhost:8080/"
        },
        "id": "wtIXIUJvw7mt",
        "outputId": "e4381396-e26e-4c65-8d18-6187d7ebab85"
      },
      "execution_count": 1,
      "outputs": [
        {
          "output_type": "stream",
          "name": "stdout",
          "text": [
            "Requirement already satisfied: catboost in /usr/local/lib/python3.7/dist-packages (1.0.4)\n",
            "Requirement already satisfied: graphviz in /usr/local/lib/python3.7/dist-packages (from catboost) (0.10.1)\n",
            "Requirement already satisfied: pandas>=0.24.0 in /usr/local/lib/python3.7/dist-packages (from catboost) (1.3.5)\n",
            "Requirement already satisfied: plotly in /usr/local/lib/python3.7/dist-packages (from catboost) (5.5.0)\n",
            "Requirement already satisfied: scipy in /usr/local/lib/python3.7/dist-packages (from catboost) (1.4.1)\n",
            "Requirement already satisfied: six in /usr/local/lib/python3.7/dist-packages (from catboost) (1.15.0)\n",
            "Requirement already satisfied: matplotlib in /usr/local/lib/python3.7/dist-packages (from catboost) (3.2.2)\n",
            "Requirement already satisfied: numpy>=1.16.0 in /usr/local/lib/python3.7/dist-packages (from catboost) (1.21.5)\n",
            "Requirement already satisfied: python-dateutil>=2.7.3 in /usr/local/lib/python3.7/dist-packages (from pandas>=0.24.0->catboost) (2.8.2)\n",
            "Requirement already satisfied: pytz>=2017.3 in /usr/local/lib/python3.7/dist-packages (from pandas>=0.24.0->catboost) (2018.9)\n",
            "Requirement already satisfied: pyparsing!=2.0.4,!=2.1.2,!=2.1.6,>=2.0.1 in /usr/local/lib/python3.7/dist-packages (from matplotlib->catboost) (3.0.7)\n",
            "Requirement already satisfied: cycler>=0.10 in /usr/local/lib/python3.7/dist-packages (from matplotlib->catboost) (0.11.0)\n",
            "Requirement already satisfied: kiwisolver>=1.0.1 in /usr/local/lib/python3.7/dist-packages (from matplotlib->catboost) (1.3.2)\n",
            "Requirement already satisfied: tenacity>=6.2.0 in /usr/local/lib/python3.7/dist-packages (from plotly->catboost) (8.0.1)\n"
          ]
        }
      ]
    },
    {
      "cell_type": "code",
      "execution_count": 2,
      "metadata": {
        "id": "igibYsAlXHIN"
      },
      "outputs": [],
      "source": [
        "from sklearn.model_selection import train_test_split\n",
        "import numpy as np\n",
        "import pandas\n",
        "import scipy.stats as st\n",
        "import random\n",
        "import matplotlib.pyplot as plt\n",
        "import matplotlib\n",
        "import copy\n",
        "import seaborn as sns\n",
        "from catboost import CatBoostClassifier\n",
        "from collections import Counter, defaultdict\n",
        "from typing import Callable, Union, NoReturn, Optional, Dict, Any, List, Iterable"
      ]
    },
    {
      "cell_type": "code",
      "source": [
        "SEED = 42\n",
        "np.random.seed(SEED)"
      ],
      "metadata": {
        "id": "Hg9U3ou6xDbz"
      },
      "execution_count": 3,
      "outputs": []
    },
    {
      "cell_type": "markdown",
      "metadata": {
        "id": "NL0piKVuXHIP"
      },
      "source": [
        "### Задание 1 (2 балла)\n",
        "Random Forest состоит из деревьев решений. Каждое такое дерево строится на одной из выборок, полученных при помощи bagging. Элементы, которые не вошли в новую обучающую выборку, образуют out-of-bag выборку. Кроме того, в каждом узле дерева мы случайным образом выбираем набор из `max_features` и ищем признак для предиката разбиения только в этом наборе.\n",
        "\n",
        "Сегодня мы будем работать только с бинарными признаками, поэтому нет необходимости выбирать значение признака для разбиения.\n",
        "\n",
        "#### Методы\n",
        "`predict(X)` - возвращает предсказанные метки для элементов выборки `X`\n",
        "\n",
        "#### Параметры конструктора\n",
        "`X, y` - обучающая выборка и соответствующие ей метки классов. Из нее нужно получить выборку для построения дерева при помощи bagging. Out-of-bag выборку нужно запомнить, она понадобится потом.\n",
        "\n",
        "`criterion=\"gini\"` - задает критерий, который будет использоваться при построении дерева. Возможные значения: `\"gini\"`, `\"entropy\"`.\n",
        "\n",
        "`max_depth=None` - ограничение глубины дерева. Если `None` - глубина не ограничена\n",
        "\n",
        "`min_samples_leaf=1` - минимальное количество элементов в каждом листе дерева.\n",
        "\n",
        "`max_features=\"auto\"` - количество признаков, которые могут использоваться в узле. Если `\"auto\"` - равно `sqrt(X.shape[1])`"
      ]
    },
    {
      "cell_type": "code",
      "execution_count": 4,
      "metadata": {
        "id": "u3nZDhW3XHIO"
      },
      "outputs": [],
      "source": [
        "def gini(x):\n",
        "    _, counts = np.unique(x, return_counts=True)\n",
        "    probs = counts / len(x)\n",
        "    return probs @ (1. - probs)\n",
        "    \n",
        "def entropy(x):\n",
        "    _, counts = np.unique(x, return_counts=True)\n",
        "    probs = counts / len(x)\n",
        "    return -(probs @ np.log2(probs))\n",
        "\n",
        "def gain(left_y, right_y, criterion):\n",
        "    n = len(left_y) + len(right_y)\n",
        "    return criterion(np.hstack([left_y, right_y])) \\\n",
        "           - len(left_y) * criterion(left_y) / n \\\n",
        "           - len(right_y) * criterion(right_y) / n"
      ]
    },
    {
      "cell_type": "code",
      "source": [
        "class DecisionTreeLeaf:\n",
        "    def __init__(self, y):\n",
        "        counter = Counter(y)\n",
        "        self.y = counter.most_common(1)[0][0]\n",
        "        n = len(y)\n",
        "        self.probs = {label: count / n for label, count in counter.items()}\n",
        "\n",
        "\n",
        "class DecisionTreeNode:\n",
        "    def __init__(self,\n",
        "                 split_dim: int,\n",
        "                 left: Union['DecisionTreeNode', DecisionTreeLeaf],\n",
        "                 right: Union['DecisionTreeNode', DecisionTreeLeaf]):\n",
        "        self.split_dim = split_dim\n",
        "        self.left = left\n",
        "        self.right = right"
      ],
      "metadata": {
        "id": "LCcfZBfLy4qC"
      },
      "execution_count": 5,
      "outputs": []
    },
    {
      "cell_type": "code",
      "source": [
        "# немного измененный класс из прошлой домашки\n",
        "class DecisionTree:\n",
        "    def __init__(self,\n",
        "                 X,\n",
        "                 y,\n",
        "                 criterion: str = \"gini\",\n",
        "                 max_depth: Optional[int] = None,\n",
        "                 min_samples_leaf: int = 1,\n",
        "                 max_features=\"auto\"):\n",
        "\n",
        "        self.root = None\n",
        "        self.classes = None\n",
        "        if max_depth is not None and max_depth < 1:\n",
        "            raise ValueError(\"max_depth must be None or >= 1\")\n",
        "        self.max_depth = max_depth\n",
        "        if min_samples_leaf < 1:\n",
        "            raise ValueError(\"min_samples_leaf must be >= 1\")\n",
        "        self.min_samples_leaf = min_samples_leaf\n",
        "        if max_features == \"auto\":\n",
        "            self.max_features = int(np.sqrt(X.shape[1]))\n",
        "        else:\n",
        "            self.max_features = max_features\n",
        "        self.criterion = self._get_criterion(criterion)\n",
        "        bagging_indexes = np.random.choice(X.shape[0], X.shape[0], replace=True)\n",
        "        self.X, self.y = X[bagging_indexes], y[bagging_indexes]\n",
        "        self.oob_X = np.delete(X, bagging_indexes, axis=0)\n",
        "        self.oob_y = np.delete(y, bagging_indexes)\n",
        "        self.fit(self.X, self.y)\n",
        "\n",
        "    def _get_criterion(self, criterion: str) -> Callable:\n",
        "        if criterion == \"gini\":\n",
        "            return gini\n",
        "        elif criterion == \"entropy\":\n",
        "            return entropy\n",
        "        else:\n",
        "            raise NotImplementedError(\"criterion must be 'gini' or 'entropy'\")\n",
        "\n",
        "    def fit(self, X: np.ndarray, y: np.ndarray) -> NoReturn:\n",
        "        def build_tree_node(X_node: np.ndarray,\n",
        "                            y_node: np.ndarray,\n",
        "                            depth: int = 1\n",
        "                            ) -> Union[DecisionTreeNode, DecisionTreeLeaf]:\n",
        "            if self.max_depth is not None and depth >= self.max_depth:\n",
        "                return DecisionTreeLeaf(y_node)\n",
        "\n",
        "            n_samples, n_features = X_node.shape\n",
        "            best_split_dim = None\n",
        "            best_gain = 0.\n",
        "\n",
        "            features = np.random.choice(n_features, self.max_features, replace=False)\n",
        "\n",
        "            for split_dim in features:\n",
        "                left_mask = ~X_node[:, split_dim].astype(bool)\n",
        "                left_size = sum(left_mask)\n",
        "                if left_size >= self.min_samples_leaf and n_samples - left_size >= self.min_samples_leaf:\n",
        "                    gain_value = gain(y_node[left_mask], y_node[~left_mask], criterion=self.criterion)\n",
        "                    if gain_value > best_gain:\n",
        "                        best_split_dim = split_dim\n",
        "                        best_gain = gain_value\n",
        "\n",
        "            if best_split_dim is None:\n",
        "                return DecisionTreeLeaf(y_node)\n",
        "\n",
        "            left_mask = ~X_node[:, best_split_dim].astype(bool)\n",
        "            left_node = build_tree_node(X_node[left_mask], y_node[left_mask], depth + 1)\n",
        "            right_node = build_tree_node(X_node[~left_mask], y_node[~left_mask], depth + 1)\n",
        "            return DecisionTreeNode(best_split_dim, left_node, right_node)\n",
        "\n",
        "        self.root = build_tree_node(X, y, 1)\n",
        "\n",
        "    def predict_proba(self, X: np.ndarray) -> Iterable[Dict[Any, float]]:\n",
        "        def tree_walk(X_node: np.ndarray, node: Union[DecisionTreeLeaf, DecisionTreeNode]) -> Iterable[\n",
        "            Dict[Any, float]]:\n",
        "            result = np.empty(X_node.shape[0], dtype=np.object)\n",
        "            if isinstance(node, DecisionTreeLeaf):\n",
        "                result[:] = np.copy(node.probs)\n",
        "            else:\n",
        "                left_mask = ~X_node[:, node.split_dim].astype(bool)\n",
        "                result[left_mask] = tree_walk(X_node[left_mask], node.left)\n",
        "                result[~left_mask] = tree_walk(X_node[~left_mask], node.right)\n",
        "            return result\n",
        "\n",
        "        return tree_walk(X, self.root)\n",
        "\n",
        "    def predict(self, X: np.ndarray) -> list:\n",
        "        proba = self.predict_proba(X)\n",
        "        return [max(p.keys(), key=lambda k: p[k]) for p in proba]"
      ],
      "metadata": {
        "id": "ceaxuQrVzpqL"
      },
      "execution_count": 6,
      "outputs": []
    },
    {
      "cell_type": "markdown",
      "metadata": {
        "id": "QbfDFicaXHIQ"
      },
      "source": [
        "### Задание 2 (2 балла)\n",
        "Теперь реализуем сам Random Forest. Идея очень простая: строим `n` деревьев, а затем берем модальное предсказание.\n",
        "\n",
        "#### Параметры конструктора\n",
        "`n_estimators` - количество используемых для предсказания деревьев.\n",
        "\n",
        "Остальное - параметры деревьев.\n",
        "\n",
        "#### Методы\n",
        "`fit(X, y)` - строит `n_estimators` деревьев по выборке `X`.\n",
        "\n",
        "`predict(X)` - для каждого элемента выборки `X` возвращает самый частый класс, который предсказывают для него деревья."
      ]
    },
    {
      "cell_type": "code",
      "execution_count": 7,
      "metadata": {
        "id": "z8KtlmvBXHIR"
      },
      "outputs": [],
      "source": [
        "class RandomForestClassifier:\n",
        "    def __init__(self,\n",
        "                 criterion=\"gini\",\n",
        "                 max_depth=None,\n",
        "                 min_samples_leaf=1,\n",
        "                 max_features=\"auto\",\n",
        "                 n_estimators=10\n",
        "                 ):\n",
        "        self.n_estimators = n_estimators\n",
        "        self.tree_kwargs = {\n",
        "            \"criterion\": criterion,\n",
        "            \"max_depth\": max_depth,\n",
        "            \"min_samples_leaf\": min_samples_leaf,\n",
        "            \"max_features\": max_features,\n",
        "        }\n",
        "        self.forest = None\n",
        "\n",
        "    def fit(self, X, y):\n",
        "        self.n_features = X.shape[1]\n",
        "        self.forest = [DecisionTree(X, y, **self.tree_kwargs) for i in range(self.n_estimators)]\n",
        "\n",
        "    def predict(self, X):\n",
        "        pred = np.array([tree.predict(X) for tree in self.forest])\n",
        "        return st.mode(pred)[0][0]"
      ]
    },
    {
      "cell_type": "markdown",
      "metadata": {
        "id": "b41Wii0_XHIR"
      },
      "source": [
        "### Задание 3 (2 балла)\n",
        "Часто хочется понимать, насколько большую роль играет тот или иной признак для предсказания класса объекта. Есть различные способы посчитать его важность. Один из простых способов сделать это для Random Forest - посчитать out-of-bag ошибку предсказания `err_oob`, а затем перемешать значения признака `j` и посчитать ее (`err_oob_j`) еще раз. Оценкой важности признака `j` для одного дерева будет разность `err_oob_j - err_oob`, важность для всего леса считается как среднее значение важности по деревьям.\n",
        "\n",
        "Реализуйте функцию `feature_importance`, которая принимает на вход Random Forest и возвращает массив, в котором содержится важность для каждого признака."
      ]
    },
    {
      "cell_type": "code",
      "execution_count": 8,
      "metadata": {
        "id": "SEa85EniXHIS"
      },
      "outputs": [],
      "source": [
        "def feature_importance(rfc):\n",
        "    n_trees, n_features = rfc.n_estimators, rfc.n_features\n",
        "    importances = np.zeros((n_features, n_trees), dtype=np.float64)\n",
        "\n",
        "    for tree_num, tree in enumerate(rfc.forest):\n",
        "        X, y = tree.oob_X, tree.oob_y\n",
        "        err_oob = np.mean(tree.predict(X) == y)\n",
        "        for dim in range(n_features):\n",
        "            shuffled_X = X.copy()\n",
        "            shuffled_X[:, dim] = np.random.permutation(X[:, dim])\n",
        "            err_oob_j = np.mean(tree.predict(shuffled_X) == y)\n",
        "            importances[dim, tree_num] = err_oob - err_oob_j\n",
        "    return np.mean(importances, axis=1)\n",
        "\n",
        "def most_important_features(importance, names, k=20):\n",
        "    # Выводит названия k самых важных признаков\n",
        "    idicies = np.argsort(importance)[::-1][:k]\n",
        "    return np.array(names)[idicies]"
      ]
    },
    {
      "cell_type": "markdown",
      "metadata": {
        "id": "w4VS3WDyXHIT"
      },
      "source": [
        "Наконец, пришло время протестировать наше дерево на простом синтетическом наборе данных. В результате точность должна быть примерно равна `1.0`, наибольшее значение важности должно быть у признака с индексом `4`, признаки с индексами `2` и `3`  должны быть одинаково важны, а остальные признаки - не важны совсем."
      ]
    },
    {
      "cell_type": "code",
      "execution_count": 9,
      "metadata": {
        "id": "wDbhPFWIXHIT",
        "colab": {
          "base_uri": "https://localhost:8080/",
          "height": 353
        },
        "outputId": "6224d17b-1e6d-496d-a556-c08718da0054"
      },
      "outputs": [
        {
          "output_type": "stream",
          "name": "stderr",
          "text": [
            "/usr/local/lib/python3.7/dist-packages/ipykernel_launcher.py:78: DeprecationWarning: `np.object` is a deprecated alias for the builtin `object`. To silence this warning, use `object` by itself. Doing this will not modify any behavior and is safe. \n",
            "Deprecated in NumPy 1.20; for more details and guidance: https://numpy.org/devdocs/release/1.20.0-notes.html#deprecations\n"
          ]
        },
        {
          "output_type": "stream",
          "name": "stdout",
          "text": [
            "Accuracy: 1.0\n"
          ]
        },
        {
          "output_type": "display_data",
          "data": {
            "image/png": "[encoded data removed]",
            "text/plain": [
              "<Figure size 432x288 with 1 Axes>"
            ]
          },
          "metadata": {
            "needs_background": "light"
          }
        }
      ],
      "source": [
        "def synthetic_dataset(size):\n",
        "    X = [(np.random.randint(0, 2), np.random.randint(0, 2), i % 6 == 3, \n",
        "          i % 6 == 0, i % 3 == 2, np.random.randint(0, 2)) for i in range(size)]\n",
        "    y = [i % 3 for i in range(size)]\n",
        "    return np.array(X), np.array(y)\n",
        "\n",
        "X, y = synthetic_dataset(1000)\n",
        "rfc = RandomForestClassifier(n_estimators=100)\n",
        "rfc.fit(X, y)\n",
        "print(\"Accuracy:\", np.mean(rfc.predict(X) == y))\n",
        "\n",
        "importance = feature_importance(rfc)\n",
        "sns.barplot(x=list(range(len(importance))), y=importance)\n",
        "plt.title(\"Importance\")\n",
        "plt.show()"
      ]
    },
    {
      "cell_type": "markdown",
      "metadata": {
        "id": "JQSKeGmoXHIT"
      },
      "source": [
        "### Задание 4 (1 балл)\n",
        "Теперь поработаем с реальными данными.\n",
        "\n",
        "Выборка состоит из публичных анонимизированных данных пользователей социальной сети Вконтакте. Первые два столбца отражают возрастную группу (`zoomer`, `doomer` и `boomer`) и пол (`female`, `male`). Все остальные столбцы являются бинарными признаками, каждый из них определяет, подписан ли пользователь на определенную группу/публичную страницу или нет.\\\n",
        "\\\n",
        "Необходимо обучить два классификатора, один из которых определяет возрастную группу, а второй - пол.\\\n",
        "\\\n",
        "Эксперименты с множеством используемых признаков и подбор гиперпараметров приветствуются. Лес должен строиться за какое-то разумное время."
      ]
    },
    {
      "cell_type": "code",
      "execution_count": 10,
      "metadata": {
        "id": "xA1GfFJMXHIU"
      },
      "outputs": [],
      "source": [
        "def read_dataset(path):\n",
        "    dataframe = pandas.read_csv(path, header=0)\n",
        "    dataset = dataframe.values.tolist()\n",
        "    random.shuffle(dataset)\n",
        "    y_age = [row[0] for row in dataset]\n",
        "    y_sex = [row[1] for row in dataset]\n",
        "    X = [row[2:] for row in dataset]\n",
        "    \n",
        "    return np.array(X), np.array(y_age), np.array(y_sex), list(dataframe.columns)[2:]"
      ]
    },
    {
      "cell_type": "code",
      "execution_count": 11,
      "metadata": {
        "id": "qYKHUy7gXHIU"
      },
      "outputs": [],
      "source": [
        "X, y_age, y_sex, features = read_dataset(\"vk.csv\")\n",
        "X_train, X_test, y_age_train, y_age_test, y_sex_train, y_sex_test = train_test_split(X, y_age, y_sex, train_size=0.9, random_state=SEED)"
      ]
    },
    {
      "cell_type": "code",
      "source": [
        "df = pandas.read_csv(\"vk.csv\")\n",
        "print(df.shape)\n",
        "df.head()"
      ],
      "metadata": {
        "colab": {
          "base_uri": "https://localhost:8080/",
          "height": 317
        },
        "id": "Erv1XHaOnjhC",
        "outputId": "a8a6c43e-9948-4b81-a5a0-d628ad31a871"
      },
      "execution_count": 12,
      "outputs": [
        {
          "output_type": "stream",
          "name": "stdout",
          "text": [
            "(7924, 151)\n"
          ]
        },
        {
          "output_type": "execute_result",
          "data": {
            "text/html": [
              "\n",
              "  <div id=\"df-d70c8e0e-daed-42b0-80b8-c6b43f29ea4b\">\n",
              "    <div class=\"colab-df-container\">\n",
              "      <div>\n",
              "<style scoped>\n",
              "    .dataframe tbody tr th:only-of-type {\n",
              "        vertical-align: middle;\n",
              "    }\n",
              "\n",
              "    .dataframe tbody tr th {\n",
              "        vertical-align: top;\n",
              "    }\n",
              "\n",
              "    .dataframe thead th {\n",
              "        text-align: right;\n",
              "    }\n",
              "</style>\n",
              "<table border=\"1\" class=\"dataframe\">\n",
              "  <thead>\n",
              "    <tr style=\"text-align: right;\">\n",
              "      <th></th>\n",
              "      <th>age</th>\n",
              "      <th>sex</th>\n",
              "      <th>s_arcazm</th>\n",
              "      <th>fortnite</th>\n",
              "      <th>ultrapir</th>\n",
              "      <th>homeideaz</th>\n",
              "      <th>ftp_memes</th>\n",
              "      <th>bog_memes</th>\n",
              "      <th>webmland</th>\n",
              "      <th>cook_good</th>\n",
              "      <th>vpisssska</th>\n",
              "      <th>ideasdecor</th>\n",
              "      <th>girlmeme</th>\n",
              "      <th>dzenpub</th>\n",
              "      <th>kinomania</th>\n",
              "      <th>bestad</th>\n",
              "      <th>life</th>\n",
              "      <th>great.food</th>\n",
              "      <th>rapnewrap</th>\n",
              "      <th>medieval_or</th>\n",
              "      <th>authors</th>\n",
              "      <th>pn6</th>\n",
              "      <th>9o_6o_9o</th>\n",
              "      <th>pixel_stickers</th>\n",
              "      <th>40kg</th>\n",
              "      <th>styd.pozor</th>\n",
              "      <th>emptiness</th>\n",
              "      <th>kino_mania</th>\n",
              "      <th>pikabu</th>\n",
              "      <th>v5umm</th>\n",
              "      <th>businessquotes</th>\n",
              "      <th>thesmolny</th>\n",
              "      <th>combovine</th>\n",
              "      <th>1poetry</th>\n",
              "      <th>mayyoung</th>\n",
              "      <th>tysnm</th>\n",
              "      <th>recipes40kg</th>\n",
              "      <th>gm.power</th>\n",
              "      <th>psy.people</th>\n",
              "      <th>overhear</th>\n",
              "      <th>...</th>\n",
              "      <th>dayvinchik</th>\n",
              "      <th>matchtv</th>\n",
              "      <th>femalemem</th>\n",
              "      <th>e_goist</th>\n",
              "      <th>officialpages</th>\n",
              "      <th>iphone</th>\n",
              "      <th>leprazo</th>\n",
              "      <th>sci</th>\n",
              "      <th>peregovorov</th>\n",
              "      <th>kino_kaif</th>\n",
              "      <th>zloyshkolnik</th>\n",
              "      <th>ohhluul</th>\n",
              "      <th>pozor</th>\n",
              "      <th>bot_maxim</th>\n",
              "      <th>pho</th>\n",
              "      <th>club52205838</th>\n",
              "      <th>kinohd</th>\n",
              "      <th>privetuyeba</th>\n",
              "      <th>public_of_music</th>\n",
              "      <th>nenormalnoo</th>\n",
              "      <th>sh.cook</th>\n",
              "      <th>i_want_love_dream</th>\n",
              "      <th>psyxov</th>\n",
              "      <th>iwantyou</th>\n",
              "      <th>modnailru</th>\n",
              "      <th>tnt</th>\n",
              "      <th>ovsyanochan</th>\n",
              "      <th>fucking_humor</th>\n",
              "      <th>zerofat</th>\n",
              "      <th>xfilm</th>\n",
              "      <th>mash</th>\n",
              "      <th>otbrosy_pokoleniya</th>\n",
              "      <th>lomai_loogiky</th>\n",
              "      <th>reflexia_our_feelings</th>\n",
              "      <th>h.made</th>\n",
              "      <th>vandroukiru</th>\n",
              "      <th>ifun</th>\n",
              "      <th>bon</th>\n",
              "      <th>igm</th>\n",
              "      <th>bratishkinoff</th>\n",
              "    </tr>\n",
              "  </thead>\n",
              "  <tbody>\n",
              "    <tr>\n",
              "      <th>0</th>\n",
              "      <td>zoomer</td>\n",
              "      <td>female</td>\n",
              "      <td>0</td>\n",
              "      <td>1</td>\n",
              "      <td>0</td>\n",
              "      <td>0</td>\n",
              "      <td>0</td>\n",
              "      <td>0</td>\n",
              "      <td>0</td>\n",
              "      <td>0</td>\n",
              "      <td>0</td>\n",
              "      <td>0</td>\n",
              "      <td>0</td>\n",
              "      <td>0</td>\n",
              "      <td>0</td>\n",
              "      <td>0</td>\n",
              "      <td>0</td>\n",
              "      <td>0</td>\n",
              "      <td>0</td>\n",
              "      <td>0</td>\n",
              "      <td>0</td>\n",
              "      <td>0</td>\n",
              "      <td>0</td>\n",
              "      <td>0</td>\n",
              "      <td>0</td>\n",
              "      <td>0</td>\n",
              "      <td>1</td>\n",
              "      <td>0</td>\n",
              "      <td>0</td>\n",
              "      <td>0</td>\n",
              "      <td>0</td>\n",
              "      <td>0</td>\n",
              "      <td>0</td>\n",
              "      <td>0</td>\n",
              "      <td>0</td>\n",
              "      <td>0</td>\n",
              "      <td>0</td>\n",
              "      <td>0</td>\n",
              "      <td>0</td>\n",
              "      <td>0</td>\n",
              "      <td>...</td>\n",
              "      <td>0</td>\n",
              "      <td>0</td>\n",
              "      <td>1</td>\n",
              "      <td>0</td>\n",
              "      <td>0</td>\n",
              "      <td>0</td>\n",
              "      <td>0</td>\n",
              "      <td>0</td>\n",
              "      <td>0</td>\n",
              "      <td>0</td>\n",
              "      <td>0</td>\n",
              "      <td>0</td>\n",
              "      <td>0</td>\n",
              "      <td>0</td>\n",
              "      <td>0</td>\n",
              "      <td>0</td>\n",
              "      <td>1</td>\n",
              "      <td>1</td>\n",
              "      <td>0</td>\n",
              "      <td>0</td>\n",
              "      <td>0</td>\n",
              "      <td>0</td>\n",
              "      <td>0</td>\n",
              "      <td>0</td>\n",
              "      <td>0</td>\n",
              "      <td>0</td>\n",
              "      <td>0</td>\n",
              "      <td>0</td>\n",
              "      <td>0</td>\n",
              "      <td>0</td>\n",
              "      <td>0</td>\n",
              "      <td>0</td>\n",
              "      <td>0</td>\n",
              "      <td>0</td>\n",
              "      <td>0</td>\n",
              "      <td>0</td>\n",
              "      <td>0</td>\n",
              "      <td>0</td>\n",
              "      <td>0</td>\n",
              "      <td>0</td>\n",
              "    </tr>\n",
              "    <tr>\n",
              "      <th>1</th>\n",
              "      <td>boomer</td>\n",
              "      <td>female</td>\n",
              "      <td>0</td>\n",
              "      <td>0</td>\n",
              "      <td>0</td>\n",
              "      <td>0</td>\n",
              "      <td>0</td>\n",
              "      <td>0</td>\n",
              "      <td>0</td>\n",
              "      <td>1</td>\n",
              "      <td>0</td>\n",
              "      <td>0</td>\n",
              "      <td>0</td>\n",
              "      <td>1</td>\n",
              "      <td>0</td>\n",
              "      <td>0</td>\n",
              "      <td>0</td>\n",
              "      <td>0</td>\n",
              "      <td>0</td>\n",
              "      <td>0</td>\n",
              "      <td>0</td>\n",
              "      <td>0</td>\n",
              "      <td>0</td>\n",
              "      <td>0</td>\n",
              "      <td>0</td>\n",
              "      <td>0</td>\n",
              "      <td>0</td>\n",
              "      <td>1</td>\n",
              "      <td>0</td>\n",
              "      <td>0</td>\n",
              "      <td>0</td>\n",
              "      <td>0</td>\n",
              "      <td>0</td>\n",
              "      <td>0</td>\n",
              "      <td>0</td>\n",
              "      <td>0</td>\n",
              "      <td>0</td>\n",
              "      <td>0</td>\n",
              "      <td>0</td>\n",
              "      <td>0</td>\n",
              "      <td>...</td>\n",
              "      <td>0</td>\n",
              "      <td>0</td>\n",
              "      <td>0</td>\n",
              "      <td>0</td>\n",
              "      <td>0</td>\n",
              "      <td>1</td>\n",
              "      <td>0</td>\n",
              "      <td>0</td>\n",
              "      <td>0</td>\n",
              "      <td>0</td>\n",
              "      <td>0</td>\n",
              "      <td>0</td>\n",
              "      <td>0</td>\n",
              "      <td>0</td>\n",
              "      <td>0</td>\n",
              "      <td>0</td>\n",
              "      <td>0</td>\n",
              "      <td>0</td>\n",
              "      <td>0</td>\n",
              "      <td>0</td>\n",
              "      <td>0</td>\n",
              "      <td>1</td>\n",
              "      <td>0</td>\n",
              "      <td>0</td>\n",
              "      <td>0</td>\n",
              "      <td>0</td>\n",
              "      <td>0</td>\n",
              "      <td>0</td>\n",
              "      <td>1</td>\n",
              "      <td>0</td>\n",
              "      <td>0</td>\n",
              "      <td>0</td>\n",
              "      <td>0</td>\n",
              "      <td>0</td>\n",
              "      <td>0</td>\n",
              "      <td>0</td>\n",
              "      <td>0</td>\n",
              "      <td>0</td>\n",
              "      <td>0</td>\n",
              "      <td>0</td>\n",
              "    </tr>\n",
              "    <tr>\n",
              "      <th>2</th>\n",
              "      <td>doomer</td>\n",
              "      <td>female</td>\n",
              "      <td>0</td>\n",
              "      <td>0</td>\n",
              "      <td>0</td>\n",
              "      <td>0</td>\n",
              "      <td>0</td>\n",
              "      <td>0</td>\n",
              "      <td>0</td>\n",
              "      <td>0</td>\n",
              "      <td>0</td>\n",
              "      <td>0</td>\n",
              "      <td>0</td>\n",
              "      <td>0</td>\n",
              "      <td>1</td>\n",
              "      <td>0</td>\n",
              "      <td>0</td>\n",
              "      <td>0</td>\n",
              "      <td>0</td>\n",
              "      <td>0</td>\n",
              "      <td>0</td>\n",
              "      <td>0</td>\n",
              "      <td>0</td>\n",
              "      <td>0</td>\n",
              "      <td>0</td>\n",
              "      <td>0</td>\n",
              "      <td>0</td>\n",
              "      <td>0</td>\n",
              "      <td>0</td>\n",
              "      <td>0</td>\n",
              "      <td>0</td>\n",
              "      <td>0</td>\n",
              "      <td>0</td>\n",
              "      <td>0</td>\n",
              "      <td>0</td>\n",
              "      <td>0</td>\n",
              "      <td>0</td>\n",
              "      <td>0</td>\n",
              "      <td>0</td>\n",
              "      <td>0</td>\n",
              "      <td>...</td>\n",
              "      <td>0</td>\n",
              "      <td>0</td>\n",
              "      <td>0</td>\n",
              "      <td>0</td>\n",
              "      <td>0</td>\n",
              "      <td>0</td>\n",
              "      <td>0</td>\n",
              "      <td>0</td>\n",
              "      <td>0</td>\n",
              "      <td>0</td>\n",
              "      <td>0</td>\n",
              "      <td>0</td>\n",
              "      <td>0</td>\n",
              "      <td>0</td>\n",
              "      <td>0</td>\n",
              "      <td>0</td>\n",
              "      <td>0</td>\n",
              "      <td>0</td>\n",
              "      <td>0</td>\n",
              "      <td>0</td>\n",
              "      <td>0</td>\n",
              "      <td>0</td>\n",
              "      <td>0</td>\n",
              "      <td>0</td>\n",
              "      <td>0</td>\n",
              "      <td>0</td>\n",
              "      <td>0</td>\n",
              "      <td>0</td>\n",
              "      <td>0</td>\n",
              "      <td>1</td>\n",
              "      <td>0</td>\n",
              "      <td>0</td>\n",
              "      <td>0</td>\n",
              "      <td>0</td>\n",
              "      <td>0</td>\n",
              "      <td>0</td>\n",
              "      <td>0</td>\n",
              "      <td>1</td>\n",
              "      <td>0</td>\n",
              "      <td>0</td>\n",
              "    </tr>\n",
              "    <tr>\n",
              "      <th>3</th>\n",
              "      <td>zoomer</td>\n",
              "      <td>female</td>\n",
              "      <td>0</td>\n",
              "      <td>0</td>\n",
              "      <td>0</td>\n",
              "      <td>0</td>\n",
              "      <td>0</td>\n",
              "      <td>0</td>\n",
              "      <td>0</td>\n",
              "      <td>0</td>\n",
              "      <td>0</td>\n",
              "      <td>0</td>\n",
              "      <td>1</td>\n",
              "      <td>0</td>\n",
              "      <td>0</td>\n",
              "      <td>0</td>\n",
              "      <td>0</td>\n",
              "      <td>0</td>\n",
              "      <td>0</td>\n",
              "      <td>0</td>\n",
              "      <td>0</td>\n",
              "      <td>0</td>\n",
              "      <td>0</td>\n",
              "      <td>0</td>\n",
              "      <td>0</td>\n",
              "      <td>0</td>\n",
              "      <td>1</td>\n",
              "      <td>0</td>\n",
              "      <td>0</td>\n",
              "      <td>0</td>\n",
              "      <td>0</td>\n",
              "      <td>0</td>\n",
              "      <td>0</td>\n",
              "      <td>0</td>\n",
              "      <td>0</td>\n",
              "      <td>0</td>\n",
              "      <td>0</td>\n",
              "      <td>0</td>\n",
              "      <td>0</td>\n",
              "      <td>0</td>\n",
              "      <td>...</td>\n",
              "      <td>0</td>\n",
              "      <td>0</td>\n",
              "      <td>0</td>\n",
              "      <td>0</td>\n",
              "      <td>0</td>\n",
              "      <td>0</td>\n",
              "      <td>0</td>\n",
              "      <td>0</td>\n",
              "      <td>0</td>\n",
              "      <td>0</td>\n",
              "      <td>0</td>\n",
              "      <td>0</td>\n",
              "      <td>0</td>\n",
              "      <td>0</td>\n",
              "      <td>0</td>\n",
              "      <td>0</td>\n",
              "      <td>0</td>\n",
              "      <td>1</td>\n",
              "      <td>0</td>\n",
              "      <td>0</td>\n",
              "      <td>0</td>\n",
              "      <td>0</td>\n",
              "      <td>0</td>\n",
              "      <td>0</td>\n",
              "      <td>0</td>\n",
              "      <td>0</td>\n",
              "      <td>0</td>\n",
              "      <td>0</td>\n",
              "      <td>0</td>\n",
              "      <td>0</td>\n",
              "      <td>0</td>\n",
              "      <td>0</td>\n",
              "      <td>0</td>\n",
              "      <td>0</td>\n",
              "      <td>0</td>\n",
              "      <td>0</td>\n",
              "      <td>0</td>\n",
              "      <td>0</td>\n",
              "      <td>0</td>\n",
              "      <td>0</td>\n",
              "    </tr>\n",
              "    <tr>\n",
              "      <th>4</th>\n",
              "      <td>boomer</td>\n",
              "      <td>male</td>\n",
              "      <td>0</td>\n",
              "      <td>0</td>\n",
              "      <td>0</td>\n",
              "      <td>0</td>\n",
              "      <td>0</td>\n",
              "      <td>0</td>\n",
              "      <td>0</td>\n",
              "      <td>0</td>\n",
              "      <td>0</td>\n",
              "      <td>0</td>\n",
              "      <td>0</td>\n",
              "      <td>0</td>\n",
              "      <td>0</td>\n",
              "      <td>0</td>\n",
              "      <td>1</td>\n",
              "      <td>0</td>\n",
              "      <td>0</td>\n",
              "      <td>0</td>\n",
              "      <td>0</td>\n",
              "      <td>0</td>\n",
              "      <td>0</td>\n",
              "      <td>0</td>\n",
              "      <td>0</td>\n",
              "      <td>0</td>\n",
              "      <td>0</td>\n",
              "      <td>0</td>\n",
              "      <td>0</td>\n",
              "      <td>1</td>\n",
              "      <td>0</td>\n",
              "      <td>0</td>\n",
              "      <td>0</td>\n",
              "      <td>0</td>\n",
              "      <td>0</td>\n",
              "      <td>0</td>\n",
              "      <td>0</td>\n",
              "      <td>0</td>\n",
              "      <td>0</td>\n",
              "      <td>0</td>\n",
              "      <td>...</td>\n",
              "      <td>0</td>\n",
              "      <td>0</td>\n",
              "      <td>0</td>\n",
              "      <td>0</td>\n",
              "      <td>0</td>\n",
              "      <td>0</td>\n",
              "      <td>0</td>\n",
              "      <td>0</td>\n",
              "      <td>0</td>\n",
              "      <td>0</td>\n",
              "      <td>0</td>\n",
              "      <td>0</td>\n",
              "      <td>0</td>\n",
              "      <td>0</td>\n",
              "      <td>0</td>\n",
              "      <td>0</td>\n",
              "      <td>0</td>\n",
              "      <td>0</td>\n",
              "      <td>0</td>\n",
              "      <td>0</td>\n",
              "      <td>0</td>\n",
              "      <td>0</td>\n",
              "      <td>0</td>\n",
              "      <td>0</td>\n",
              "      <td>0</td>\n",
              "      <td>0</td>\n",
              "      <td>0</td>\n",
              "      <td>0</td>\n",
              "      <td>0</td>\n",
              "      <td>0</td>\n",
              "      <td>0</td>\n",
              "      <td>0</td>\n",
              "      <td>0</td>\n",
              "      <td>0</td>\n",
              "      <td>0</td>\n",
              "      <td>0</td>\n",
              "      <td>0</td>\n",
              "      <td>0</td>\n",
              "      <td>0</td>\n",
              "      <td>0</td>\n",
              "    </tr>\n",
              "  </tbody>\n",
              "</table>\n",
              "<p>5 rows × 151 columns</p>\n",
              "</div>\n",
              "      <button class=\"colab-df-convert\" onclick=\"convertToInteractive('df-d70c8e0e-daed-42b0-80b8-c6b43f29ea4b')\"\n",
              "              title=\"Convert this dataframe to an interactive table.\"\n",
              "              style=\"display:none;\">\n",
              "        \n",
              "  <svg xmlns=\"http://www.w3.org/2000/svg\" height=\"24px\"viewBox=\"0 0 24 24\"\n",
              "       width=\"24px\">\n",
              "    <path d=\"M0 0h24v24H0V0z\" fill=\"none\"/>\n",
              "    <path d=\"M18.56 5.44l.94 2.06.94-2.06 2.06-.94-2.06-.94-.94-2.06-.94 2.06-2.06.94zm-11 1L8.5 8.5l.94-2.06 2.06-.94-2.06-.94L8.5 2.5l-.94 2.06-2.06.94zm10 10l.94 2.06.94-2.06 2.06-.94-2.06-.94-.94-2.06-.94 2.06-2.06.94z\"/><path d=\"M17.41 7.96l-1.37-1.37c-.4-.4-.92-.59-1.43-.59-.52 0-1.04.2-1.43.59L10.3 9.45l-7.72 7.72c-.78.78-.78 2.05 0 2.83L4 21.41c.39.39.9.59 1.41.59.51 0 1.02-.2 1.41-.59l7.78-7.78 2.81-2.81c.8-.78.8-2.07 0-2.86zM5.41 20L4 18.59l7.72-7.72 1.47 1.35L5.41 20z\"/>\n",
              "  </svg>\n",
              "      </button>\n",
              "      \n",
              "  <style>\n",
              "    .colab-df-container {\n",
              "      display:flex;\n",
              "      flex-wrap:wrap;\n",
              "      gap: 12px;\n",
              "    }\n",
              "\n",
              "    .colab-df-convert {\n",
              "      background-color: #E8F0FE;\n",
              "      border: none;\n",
              "      border-radius: 50%;\n",
              "      cursor: pointer;\n",
              "      display: none;\n",
              "      fill: #1967D2;\n",
              "      height: 32px;\n",
              "      padding: 0 0 0 0;\n",
              "      width: 32px;\n",
              "    }\n",
              "\n",
              "    .colab-df-convert:hover {\n",
              "      background-color: #E2EBFA;\n",
              "      box-shadow: 0px 1px 2px rgba(60, 64, 67, 0.3), 0px 1px 3px 1px rgba(60, 64, 67, 0.15);\n",
              "      fill: #174EA6;\n",
              "    }\n",
              "\n",
              "    [theme=dark] .colab-df-convert {\n",
              "      background-color: #3B4455;\n",
              "      fill: #D2E3FC;\n",
              "    }\n",
              "\n",
              "    [theme=dark] .colab-df-convert:hover {\n",
              "      background-color: #434B5C;\n",
              "      box-shadow: 0px 1px 3px 1px rgba(0, 0, 0, 0.15);\n",
              "      filter: drop-shadow(0px 1px 2px rgba(0, 0, 0, 0.3));\n",
              "      fill: #FFFFFF;\n",
              "    }\n",
              "  </style>\n",
              "\n",
              "      <script>\n",
              "        const buttonEl =\n",
              "          document.querySelector('#df-d70c8e0e-daed-42b0-80b8-c6b43f29ea4b button.colab-df-convert');\n",
              "        buttonEl.style.display =\n",
              "          google.colab.kernel.accessAllowed ? 'block' : 'none';\n",
              "\n",
              "        async function convertToInteractive(key) {\n",
              "          const element = document.querySelector('#df-d70c8e0e-daed-42b0-80b8-c6b43f29ea4b');\n",
              "          const dataTable =\n",
              "            await google.colab.kernel.invokeFunction('convertToInteractive',\n",
              "                                                     [key], {});\n",
              "          if (!dataTable) return;\n",
              "\n",
              "          const docLinkHtml = 'Like what you see? Visit the ' +\n",
              "            '<a target=\"_blank\" href=https://colab.research.google.com/notebooks/data_table.ipynb>data table notebook</a>'\n",
              "            + ' to learn more about interactive tables.';\n",
              "          element.innerHTML = '';\n",
              "          dataTable['output_type'] = 'display_data';\n",
              "          await google.colab.output.renderOutput(dataTable, element);\n",
              "          const docLink = document.createElement('div');\n",
              "          docLink.innerHTML = docLinkHtml;\n",
              "          element.appendChild(docLink);\n",
              "        }\n",
              "      </script>\n",
              "    </div>\n",
              "  </div>\n",
              "  "
            ],
            "text/plain": [
              "      age     sex  s_arcazm  fortnite  ...  ifun  bon  igm  bratishkinoff\n",
              "0  zoomer  female         0         1  ...     0    0    0              0\n",
              "1  boomer  female         0         0  ...     0    0    0              0\n",
              "2  doomer  female         0         0  ...     0    1    0              0\n",
              "3  zoomer  female         0         0  ...     0    0    0              0\n",
              "4  boomer    male         0         0  ...     0    0    0              0\n",
              "\n",
              "[5 rows x 151 columns]"
            ]
          },
          "metadata": {},
          "execution_count": 12
        }
      ]
    },
    {
      "cell_type": "markdown",
      "metadata": {
        "id": "eKVys5RMXHIU"
      },
      "source": [
        "#### Возраст"
      ]
    },
    {
      "cell_type": "code",
      "execution_count": 13,
      "metadata": {
        "id": "LYUV5yZHXHIU",
        "colab": {
          "base_uri": "https://localhost:8080/"
        },
        "outputId": "f0c983ba-6a53-4c98-8088-e5b7766c0dde"
      },
      "outputs": [
        {
          "output_type": "stream",
          "name": "stderr",
          "text": [
            "/usr/local/lib/python3.7/dist-packages/ipykernel_launcher.py:78: DeprecationWarning: `np.object` is a deprecated alias for the builtin `object`. To silence this warning, use `object` by itself. Doing this will not modify any behavior and is safe. \n",
            "Deprecated in NumPy 1.20; for more details and guidance: https://numpy.org/devdocs/release/1.20.0-notes.html#deprecations\n"
          ]
        },
        {
          "output_type": "stream",
          "name": "stdout",
          "text": [
            "Accuracy: 0.7087011349306431\n",
            "Most important features:\n",
            "1. ovsyanochan\n",
            "2. rhymes\n",
            "3. styd.pozor\n",
            "4. mudakoff\n",
            "5. 4ch\n",
            "6. dayvinchik\n",
            "7. pravdashowtop\n",
            "8. rapnewrap\n",
            "9. iwantyou\n",
            "10. bot_maxim\n",
            "11. tumblr_vacuum\n",
            "12. reflexia_our_feelings\n",
            "13. pixel_stickers\n",
            "14. bog_memes\n",
            "15. soverwenstvo.decora\n",
            "16. xfilm\n",
            "17. bestad\n",
            "18. i_d_t\n",
            "19. vinevinevine\n",
            "20. femalemem\n"
          ]
        }
      ],
      "source": [
        "rfc = RandomForestClassifier(n_estimators=10)\n",
        "\n",
        "rfc.fit(X_train, y_age_train)\n",
        "print(\"Accuracy:\", np.mean(rfc.predict(X_test) == y_age_test))\n",
        "print(\"Most important features:\")\n",
        "for i, name in enumerate(most_important_features(feature_importance(rfc), features, 20)):\n",
        "    print(str(i+1) + \".\", name)"
      ]
    },
    {
      "cell_type": "markdown",
      "metadata": {
        "id": "wJuzLuVYXHIV"
      },
      "source": [
        "#### Пол"
      ]
    },
    {
      "cell_type": "code",
      "execution_count": 14,
      "metadata": {
        "id": "rBGU4dQ_XHIV",
        "colab": {
          "base_uri": "https://localhost:8080/"
        },
        "outputId": "2e656d5b-126e-47a3-fe5e-34c4fe2cd271"
      },
      "outputs": [
        {
          "output_type": "stream",
          "name": "stderr",
          "text": [
            "/usr/local/lib/python3.7/dist-packages/ipykernel_launcher.py:78: DeprecationWarning: `np.object` is a deprecated alias for the builtin `object`. To silence this warning, use `object` by itself. Doing this will not modify any behavior and is safe. \n",
            "Deprecated in NumPy 1.20; for more details and guidance: https://numpy.org/devdocs/release/1.20.0-notes.html#deprecations\n"
          ]
        },
        {
          "output_type": "stream",
          "name": "stdout",
          "text": [
            "Accuracy: 0.8575031525851198\n",
            "Most important features:\n",
            "1. 40kg\n",
            "2. girlmeme\n",
            "3. zerofat\n",
            "4. modnailru\n",
            "5. 9o_6o_9o\n",
            "6. mudakoff\n",
            "7. igm\n",
            "8. woman.blog\n",
            "9. be.women\n",
            "10. bon\n",
            "11. thesmolny\n",
            "12. cook_good\n",
            "13. be.beauty\n",
            "14. reflexia_our_feelings\n",
            "15. 4ch\n",
            "16. i_d_t\n",
            "17. soverwenstvo.decora\n",
            "18. combovine\n",
            "19. rhymes\n",
            "20. fuck_humor\n"
          ]
        }
      ],
      "source": [
        "rfc = RandomForestClassifier(n_estimators=10)\n",
        "rfc.fit(X_train, y_sex_train)\n",
        "print(\"Accuracy:\", np.mean(rfc.predict(X_test) == y_sex_test))\n",
        "print(\"Most important features:\")\n",
        "for i, name in enumerate(most_important_features(feature_importance(rfc), features, 20)):\n",
        "    print(str(i+1) + \".\", name)"
      ]
    },
    {
      "cell_type": "markdown",
      "metadata": {
        "id": "zOO-Lk_0XHIV"
      },
      "source": [
        "### CatBoost\n",
        "В качестве аьтернативы попробуем CatBoost. \n",
        "\n",
        "Устаниовить его можно просто с помощью `pip install catboost`. Туториалы можно найти, например, [здесь](https://catboost.ai/docs/concepts/python-usages-examples.html#multiclassification) и [здесь](https://github.com/catboost/tutorials/blob/master/python_tutorial.ipynb). Главное - не забудьте использовать `loss_function='MultiClass'`.\\\n",
        "\\\n",
        "Сначала протестируйте CatBoost на синтетических данных. Выведите точность и важность признаков."
      ]
    },
    {
      "cell_type": "code",
      "execution_count": 15,
      "metadata": {
        "id": "mWBdHNJPXHIV",
        "colab": {
          "base_uri": "https://localhost:8080/",
          "height": 298
        },
        "outputId": "96049173-f593-4085-f86d-cd3a99f33f86"
      },
      "outputs": [
        {
          "output_type": "stream",
          "name": "stdout",
          "text": [
            "Accuracy: 1.0\n"
          ]
        },
        {
          "output_type": "display_data",
          "data": {
            "image/png": "[encoded data removed]",
            "text/plain": [
              "<Figure size 432x288 with 1 Axes>"
            ]
          },
          "metadata": {
            "needs_background": "light"
          }
        }
      ],
      "source": [
        "X, y = synthetic_dataset(1000)\n",
        "catboost = CatBoostClassifier(iterations=100, loss_function=\"MultiClass\", verbose=False)\n",
        "catboost.fit(X, y)\n",
        "y_pred = catboost.predict(X).flatten()\n",
        "print(\"Accuracy:\", np.mean(y_pred == y))\n",
        "\n",
        "importance = catboost.feature_importances_\n",
        "sns.barplot(x=list(range(len(importance))), y=importance)\n",
        "plt.title(\"Importance\")\n",
        "plt.show()"
      ]
    },
    {
      "cell_type": "markdown",
      "metadata": {
        "id": "sj8GnxA7XHIW"
      },
      "source": [
        "### Задание 5 (3 балла)\n",
        "Попробуем применить один из используемых на практике алгоритмов. В этом нам поможет CatBoost. Также, как и реализованный ними RandomForest, применим его для определения пола и возраста пользователей сети Вконтакте, выведите названия наиболее важных признаков так же, как в задании 3.\\\n",
        "\\\n",
        "Эксперименты с множеством используемых признаков и подбор гиперпараметров приветствуются."
      ]
    },
    {
      "cell_type": "code",
      "execution_count": 16,
      "metadata": {
        "id": "HtjJ0jc8XHIW"
      },
      "outputs": [],
      "source": [
        "X, y_age, y_sex, features = read_dataset(\"vk.csv\")\n",
        "X_train, X_test, y_age_train, y_age_test, y_sex_train, y_sex_test = train_test_split(X, y_age, y_sex, train_size=0.9)\n",
        "X_train, X_eval, y_age_train, y_age_eval, y_sex_train, y_sex_eval = train_test_split(X_train, y_age_train, y_sex_train, train_size=0.8)"
      ]
    },
    {
      "cell_type": "markdown",
      "metadata": {
        "id": "HxkWgk-VXHIW"
      },
      "source": [
        "#### Возраст"
      ]
    },
    {
      "cell_type": "code",
      "source": [
        "catboost_age = CatBoostClassifier(n_estimators=1000, loss_function=\"MultiClass\", verbose=False)\n",
        "catboost_age.fit(X_train, y_age_train)\n",
        "y_pred = catboost_age.predict(X_test).flatten()\n",
        "print(\"\\nAccuracy:\", np.mean(y_pred == y_age_test))\n",
        "print(\"Most important features:\")\n",
        "for i, name in enumerate(most_important_features(catboost_age.feature_importances_, features, 10)):\n",
        "    print(str(i+1) + \".\", name)"
      ],
      "metadata": {
        "colab": {
          "base_uri": "https://localhost:8080/"
        },
        "id": "RLhoEz0frfOi",
        "outputId": "0f0e9d17-adba-40cf-a902-7ca5a35b1e4c"
      },
      "execution_count": 17,
      "outputs": [
        {
          "output_type": "stream",
          "name": "stdout",
          "text": [
            "\n",
            "Accuracy: 0.7490542244640606\n",
            "Most important features:\n",
            "1. ovsyanochan\n",
            "2. 4ch\n",
            "3. styd.pozor\n",
            "4. mudakoff\n",
            "5. dayvinchik\n",
            "6. rhymes\n",
            "7. rapnewrap\n",
            "8. leprum\n",
            "9. fuck_humor\n",
            "10. xfilm\n"
          ]
        }
      ]
    },
    {
      "cell_type": "markdown",
      "metadata": {
        "id": "xIssDLRaXHIW"
      },
      "source": [
        "#### Пол"
      ]
    },
    {
      "cell_type": "code",
      "execution_count": 18,
      "metadata": {
        "id": "nWPSbmKqXHIX",
        "colab": {
          "base_uri": "https://localhost:8080/"
        },
        "outputId": "64c76bfc-a22d-480f-b5d5-b103eb9c24a5"
      },
      "outputs": [
        {
          "output_type": "stream",
          "name": "stdout",
          "text": [
            "\n",
            "Accuracy: 0.8814627994955864\n",
            "Most important features:\n",
            "1. 40kg\n",
            "2. mudakoff\n",
            "3. girlmeme\n",
            "4. modnailru\n",
            "5. i_d_t\n",
            "6. 4ch\n",
            "7. femalemem\n",
            "8. be.beauty\n",
            "9. igm\n",
            "10. 9o_6o_9o\n"
          ]
        }
      ],
      "source": [
        "catboost_sex = CatBoostClassifier(n_estimators=1000, loss_function=\"MultiClass\", verbose=False)\n",
        "catboost_sex.fit(X_train, y_sex_train)\n",
        "y_pred = catboost_sex.predict(X_test).flatten()\n",
        "print(\"\\nAccuracy:\", np.mean(y_pred == y_sex_test))\n",
        "print(\"Most important features:\")\n",
        "for i, name in enumerate(most_important_features(catboost_sex.feature_importances_, features, 10)):\n",
        "    print(str(i+1) + \".\", name)"
      ]
    },
    {
      "cell_type": "code",
      "source": [
        ""
      ],
      "metadata": {
        "id": "M1vZDK1jvC3Q"
      },
      "execution_count": 18,
      "outputs": []
    }
  ],
  "metadata": {
    "kernelspec": {
      "display_name": "Python 3",
      "language": "python",
      "name": "python3"
    },
    "language_info": {
      "codemirror_mode": {
        "name": "ipython",
        "version": 3
      },
      "file_extension": ".py",
      "mimetype": "text/x-python",
      "name": "python",
      "nbconvert_exporter": "python",
      "pygments_lexer": "ipython3",
      "version": "3.7.3"
    },
    "colab": {
      "name": "hw09_solution.ipynb",
      "provenance": [],
      "collapsed_sections": []
    }
  },
  "nbformat": 4,
  "nbformat_minor": 0
}